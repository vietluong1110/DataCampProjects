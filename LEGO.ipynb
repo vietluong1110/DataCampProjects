{
 "cells": [
  {
   "cell_type": "markdown",
   "metadata": {},
   "source": [
    "1. What percentage of all licensed sets ever released were Star Wars themed? Save your answer as a variable the_force in the form of an integer (e.g. 25).\n",
    "\n",
    "2. In which year was Star Wars not the most popular licensed theme (in terms of number of sets released that year)? Save your answer as a variable new_era in the form of an integer (e.g. 2012)."
   ]
  },
  {
   "cell_type": "code",
   "execution_count": 304,
   "metadata": {},
   "outputs": [],
   "source": [
    "import pandas as pd"
   ]
  },
  {
   "cell_type": "code",
   "execution_count": 305,
   "metadata": {},
   "outputs": [
    {
     "data": {
      "text/html": [
       "<div>\n",
       "<style scoped>\n",
       "    .dataframe tbody tr th:only-of-type {\n",
       "        vertical-align: middle;\n",
       "    }\n",
       "\n",
       "    .dataframe tbody tr th {\n",
       "        vertical-align: top;\n",
       "    }\n",
       "\n",
       "    .dataframe thead th {\n",
       "        text-align: right;\n",
       "    }\n",
       "</style>\n",
       "<table border=\"1\" class=\"dataframe\">\n",
       "  <thead>\n",
       "    <tr style=\"text-align: right;\">\n",
       "      <th></th>\n",
       "      <th>set_num</th>\n",
       "      <th>name</th>\n",
       "      <th>year</th>\n",
       "      <th>num_parts</th>\n",
       "      <th>theme_name</th>\n",
       "      <th>parent_theme</th>\n",
       "    </tr>\n",
       "  </thead>\n",
       "  <tbody>\n",
       "    <tr>\n",
       "      <th>0</th>\n",
       "      <td>00-1</td>\n",
       "      <td>Weetabix Castle</td>\n",
       "      <td>1970</td>\n",
       "      <td>471.0</td>\n",
       "      <td>Castle</td>\n",
       "      <td>Legoland</td>\n",
       "    </tr>\n",
       "    <tr>\n",
       "      <th>1</th>\n",
       "      <td>0011-2</td>\n",
       "      <td>Town Mini-Figures</td>\n",
       "      <td>1978</td>\n",
       "      <td>NaN</td>\n",
       "      <td>Supplemental</td>\n",
       "      <td>Town</td>\n",
       "    </tr>\n",
       "    <tr>\n",
       "      <th>2</th>\n",
       "      <td>0011-3</td>\n",
       "      <td>Castle 2 for 1 Bonus Offer</td>\n",
       "      <td>1987</td>\n",
       "      <td>NaN</td>\n",
       "      <td>Lion Knights</td>\n",
       "      <td>Castle</td>\n",
       "    </tr>\n",
       "    <tr>\n",
       "      <th>3</th>\n",
       "      <td>0012-1</td>\n",
       "      <td>Space Mini-Figures</td>\n",
       "      <td>1979</td>\n",
       "      <td>12.0</td>\n",
       "      <td>Supplemental</td>\n",
       "      <td>Space</td>\n",
       "    </tr>\n",
       "    <tr>\n",
       "      <th>4</th>\n",
       "      <td>0013-1</td>\n",
       "      <td>Space Mini-Figures</td>\n",
       "      <td>1979</td>\n",
       "      <td>12.0</td>\n",
       "      <td>Supplemental</td>\n",
       "      <td>Space</td>\n",
       "    </tr>\n",
       "    <tr>\n",
       "      <th>...</th>\n",
       "      <td>...</td>\n",
       "      <td>...</td>\n",
       "      <td>...</td>\n",
       "      <td>...</td>\n",
       "      <td>...</td>\n",
       "      <td>...</td>\n",
       "    </tr>\n",
       "    <tr>\n",
       "      <th>11981</th>\n",
       "      <td>NaN</td>\n",
       "      <td>NaN</td>\n",
       "      <td>2014</td>\n",
       "      <td>NaN</td>\n",
       "      <td>NaN</td>\n",
       "      <td>Minecraft</td>\n",
       "    </tr>\n",
       "    <tr>\n",
       "      <th>11982</th>\n",
       "      <td>NaN</td>\n",
       "      <td>NaN</td>\n",
       "      <td>2006</td>\n",
       "      <td>NaN</td>\n",
       "      <td>NaN</td>\n",
       "      <td>Super Heroes</td>\n",
       "    </tr>\n",
       "    <tr>\n",
       "      <th>11983</th>\n",
       "      <td>NaN</td>\n",
       "      <td>NaN</td>\n",
       "      <td>2017</td>\n",
       "      <td>NaN</td>\n",
       "      <td>NaN</td>\n",
       "      <td>Minecraft</td>\n",
       "    </tr>\n",
       "    <tr>\n",
       "      <th>11984</th>\n",
       "      <td>NaN</td>\n",
       "      <td>NaN</td>\n",
       "      <td>2017</td>\n",
       "      <td>8.0</td>\n",
       "      <td>NaN</td>\n",
       "      <td>Super Heroes</td>\n",
       "    </tr>\n",
       "    <tr>\n",
       "      <th>11985</th>\n",
       "      <td>NaN</td>\n",
       "      <td>NaN</td>\n",
       "      <td>2003</td>\n",
       "      <td>NaN</td>\n",
       "      <td>NaN</td>\n",
       "      <td>Harry Potter</td>\n",
       "    </tr>\n",
       "  </tbody>\n",
       "</table>\n",
       "<p>11986 rows × 6 columns</p>\n",
       "</div>"
      ],
      "text/plain": [
       "      set_num                        name  year  num_parts    theme_name  \\\n",
       "0        00-1             Weetabix Castle  1970      471.0        Castle   \n",
       "1      0011-2           Town Mini-Figures  1978        NaN  Supplemental   \n",
       "2      0011-3  Castle 2 for 1 Bonus Offer  1987        NaN  Lion Knights   \n",
       "3      0012-1          Space Mini-Figures  1979       12.0  Supplemental   \n",
       "4      0013-1          Space Mini-Figures  1979       12.0  Supplemental   \n",
       "...       ...                         ...   ...        ...           ...   \n",
       "11981     NaN                         NaN  2014        NaN           NaN   \n",
       "11982     NaN                         NaN  2006        NaN           NaN   \n",
       "11983     NaN                         NaN  2017        NaN           NaN   \n",
       "11984     NaN                         NaN  2017        8.0           NaN   \n",
       "11985     NaN                         NaN  2003        NaN           NaN   \n",
       "\n",
       "       parent_theme  \n",
       "0          Legoland  \n",
       "1              Town  \n",
       "2            Castle  \n",
       "3             Space  \n",
       "4             Space  \n",
       "...             ...  \n",
       "11981     Minecraft  \n",
       "11982  Super Heroes  \n",
       "11983     Minecraft  \n",
       "11984  Super Heroes  \n",
       "11985  Harry Potter  \n",
       "\n",
       "[11986 rows x 6 columns]"
      ]
     },
     "execution_count": 305,
     "metadata": {},
     "output_type": "execute_result"
    }
   ],
   "source": [
    "df1 = pd.read_csv('lego_sets.csv')\n",
    "df2 = pd.read_csv('parent_themes.csv')\n",
    "df3 = pd.read_csv('sets.csv')\n",
    "df4 = pd.read_csv('themes.csv')\n",
    "df1"
   ]
  },
  {
   "cell_type": "markdown",
   "metadata": {},
   "source": [
    "DATA CLEANING"
   ]
  },
  {
   "cell_type": "code",
   "execution_count": 306,
   "metadata": {},
   "outputs": [],
   "source": [
    "df1.dropna(subset=['set_num'],inplace=True)\n",
    "df1.drop_duplicates(subset=['set_num'], keep = 'first')\n",
    "df2.dropna(subset=['name'], inplace=True)\n"
   ]
  },
  {
   "cell_type": "markdown",
   "metadata": {},
   "source": [
    "MERGING DF1 AND DF2 BASED ON THE TWO COMMON COLUMNS 'parent_theme' AND 'name'"
   ]
  },
  {
   "cell_type": "code",
   "execution_count": 307,
   "metadata": {},
   "outputs": [
    {
     "data": {
      "text/html": [
       "<div>\n",
       "<style scoped>\n",
       "    .dataframe tbody tr th:only-of-type {\n",
       "        vertical-align: middle;\n",
       "    }\n",
       "\n",
       "    .dataframe tbody tr th {\n",
       "        vertical-align: top;\n",
       "    }\n",
       "\n",
       "    .dataframe thead th {\n",
       "        text-align: right;\n",
       "    }\n",
       "</style>\n",
       "<table border=\"1\" class=\"dataframe\">\n",
       "  <thead>\n",
       "    <tr style=\"text-align: right;\">\n",
       "      <th></th>\n",
       "      <th>year</th>\n",
       "      <th>set_num</th>\n",
       "      <th>name_x</th>\n",
       "      <th>parent_theme</th>\n",
       "      <th>is_licensed</th>\n",
       "    </tr>\n",
       "  </thead>\n",
       "  <tbody>\n",
       "    <tr>\n",
       "      <th>0</th>\n",
       "      <td>1970</td>\n",
       "      <td>00-1</td>\n",
       "      <td>Weetabix Castle</td>\n",
       "      <td>Legoland</td>\n",
       "      <td>False</td>\n",
       "    </tr>\n",
       "    <tr>\n",
       "      <th>1</th>\n",
       "      <td>1976</td>\n",
       "      <td>00-2</td>\n",
       "      <td>Weetabix Promotional House 1</td>\n",
       "      <td>Legoland</td>\n",
       "      <td>False</td>\n",
       "    </tr>\n",
       "    <tr>\n",
       "      <th>2</th>\n",
       "      <td>1976</td>\n",
       "      <td>00-3</td>\n",
       "      <td>Weetabix Promotional House 2</td>\n",
       "      <td>Legoland</td>\n",
       "      <td>False</td>\n",
       "    </tr>\n",
       "    <tr>\n",
       "      <th>3</th>\n",
       "      <td>1976</td>\n",
       "      <td>00-4</td>\n",
       "      <td>Weetabix Promotional Windmill</td>\n",
       "      <td>Legoland</td>\n",
       "      <td>False</td>\n",
       "    </tr>\n",
       "    <tr>\n",
       "      <th>4</th>\n",
       "      <td>1976</td>\n",
       "      <td>00-7</td>\n",
       "      <td>Weetabix Promotional Lego Village</td>\n",
       "      <td>Legoland</td>\n",
       "      <td>False</td>\n",
       "    </tr>\n",
       "    <tr>\n",
       "      <th>...</th>\n",
       "      <td>...</td>\n",
       "      <td>...</td>\n",
       "      <td>...</td>\n",
       "      <td>...</td>\n",
       "      <td>...</td>\n",
       "    </tr>\n",
       "    <tr>\n",
       "      <th>11828</th>\n",
       "      <td>2010</td>\n",
       "      <td>8410-1</td>\n",
       "      <td>Swampfire</td>\n",
       "      <td>Ben 10</td>\n",
       "      <td>True</td>\n",
       "    </tr>\n",
       "    <tr>\n",
       "      <th>11829</th>\n",
       "      <td>2010</td>\n",
       "      <td>8411-1</td>\n",
       "      <td>ChromaStone</td>\n",
       "      <td>Ben 10</td>\n",
       "      <td>True</td>\n",
       "    </tr>\n",
       "    <tr>\n",
       "      <th>11830</th>\n",
       "      <td>2010</td>\n",
       "      <td>8517-1</td>\n",
       "      <td>Humungousaur</td>\n",
       "      <td>Ben 10</td>\n",
       "      <td>True</td>\n",
       "    </tr>\n",
       "    <tr>\n",
       "      <th>11831</th>\n",
       "      <td>2010</td>\n",
       "      <td>8518-1</td>\n",
       "      <td>Jet Ray</td>\n",
       "      <td>Ben 10</td>\n",
       "      <td>True</td>\n",
       "    </tr>\n",
       "    <tr>\n",
       "      <th>11832</th>\n",
       "      <td>2010</td>\n",
       "      <td>8519-1</td>\n",
       "      <td>Big Chill</td>\n",
       "      <td>Ben 10</td>\n",
       "      <td>True</td>\n",
       "    </tr>\n",
       "  </tbody>\n",
       "</table>\n",
       "<p>11833 rows × 5 columns</p>\n",
       "</div>"
      ],
      "text/plain": [
       "       year set_num                             name_x parent_theme  \\\n",
       "0      1970    00-1                    Weetabix Castle     Legoland   \n",
       "1      1976    00-2       Weetabix Promotional House 1     Legoland   \n",
       "2      1976    00-3       Weetabix Promotional House 2     Legoland   \n",
       "3      1976    00-4      Weetabix Promotional Windmill     Legoland   \n",
       "4      1976    00-7  Weetabix Promotional Lego Village     Legoland   \n",
       "...     ...     ...                                ...          ...   \n",
       "11828  2010  8410-1                          Swampfire       Ben 10   \n",
       "11829  2010  8411-1                        ChromaStone       Ben 10   \n",
       "11830  2010  8517-1                       Humungousaur       Ben 10   \n",
       "11831  2010  8518-1                            Jet Ray       Ben 10   \n",
       "11832  2010  8519-1                          Big Chill       Ben 10   \n",
       "\n",
       "       is_licensed  \n",
       "0            False  \n",
       "1            False  \n",
       "2            False  \n",
       "3            False  \n",
       "4            False  \n",
       "...            ...  \n",
       "11828         True  \n",
       "11829         True  \n",
       "11830         True  \n",
       "11831         True  \n",
       "11832         True  \n",
       "\n",
       "[11833 rows x 5 columns]"
      ]
     },
     "execution_count": 307,
     "metadata": {},
     "output_type": "execute_result"
    }
   ],
   "source": [
    "merged = pd.merge(df1,df2,left_on='parent_theme', right_on='name')\n",
    "\n",
    "#extracting the necessary columns\n",
    "use_this = merged.loc[:,['year','set_num','name_x','parent_theme','is_licensed']]\n",
    "use_this"
   ]
  },
  {
   "cell_type": "code",
   "execution_count": 308,
   "metadata": {},
   "outputs": [
    {
     "data": {
      "text/plain": [
       "52.0"
      ]
     },
     "execution_count": 308,
     "metadata": {},
     "output_type": "execute_result"
    }
   ],
   "source": [
    "number_of_licensed = use_this.groupby('is_licensed').count().iloc[1,1]\n",
    "\n",
    "StarWar = use_this[use_this['parent_theme'].str.contains('Star')]\n",
    "number_of_StarWar = StarWar['parent_theme'].count()\n",
    "\n",
    "the_force = (number_of_StarWar/number_of_licensed) * 100\n",
    "round(the_force,0)"
   ]
  },
  {
   "cell_type": "code",
   "execution_count": 324,
   "metadata": {},
   "outputs": [
    {
     "data": {
      "text/plain": [
       "2017"
      ]
     },
     "execution_count": 324,
     "metadata": {},
     "output_type": "execute_result"
    }
   ],
   "source": [
    "licensed_sets = use_this[use_this['is_licensed']]\n",
    "pivot_table = licensed_sets.pivot_table(columns='parent_theme',index='year', values='set_num',aggfunc='count')\n",
    "\n",
    "yearly_max = pivot_table.max(axis='columns')\n",
    "\n",
    "new_era = int(pivot_table[pivot_table['Star Wars'] < yearly_max].index[0])\n",
    "new_era\n"
   ]
  },
  {
   "cell_type": "code",
   "execution_count": 343,
   "metadata": {},
   "outputs": [
    {
     "data": {
      "text/plain": [
       "2017"
      ]
     },
     "execution_count": 343,
     "metadata": {},
     "output_type": "execute_result"
    }
   ],
   "source": [
    "most_frequent = licensed_sets.groupby(['year'])['parent_theme'].agg(pd.Series.mode)\n",
    "most_frequent[most_frequent != 'Star Wars'].index[0]"
   ]
  }
 ],
 "metadata": {
  "interpreter": {
   "hash": "369f2c481f4da34e4445cda3fffd2e751bd1c4d706f27375911949ba6bb62e1c"
  },
  "kernelspec": {
   "display_name": "Python 3.10.2 64-bit",
   "language": "python",
   "name": "python3"
  },
  "language_info": {
   "codemirror_mode": {
    "name": "ipython",
    "version": 3
   },
   "file_extension": ".py",
   "mimetype": "text/x-python",
   "name": "python",
   "nbconvert_exporter": "python",
   "pygments_lexer": "ipython3",
   "version": "3.10.2"
  },
  "orig_nbformat": 4
 },
 "nbformat": 4,
 "nbformat_minor": 2
}
